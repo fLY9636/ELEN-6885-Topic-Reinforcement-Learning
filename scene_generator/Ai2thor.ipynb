{
 "cells": [
  {
   "cell_type": "code",
   "execution_count": 1,
   "metadata": {},
   "outputs": [],
   "source": [
    "import ai2thor.controller\n",
    "import matplotlib.image as mpimg\n",
    "import matplotlib.pyplot as plt\n",
    "import networkx as nx\n",
    "import numpy as np"
   ]
  },
  {
   "cell_type": "code",
   "execution_count": 2,
   "metadata": {},
   "outputs": [],
   "source": [
    "# Choose a scene below\n",
    "# Kitchens: FloorPlan1 - FloorPlan30\n",
    "# Living rooms: FloorPlan201 - FloorPlan230\n",
    "# Bedrooms: FloorPlan301 - FloorPlan330\n",
    "# Bathrooms: FloorPLan401 - FloorPlan430\n",
    "scene = 'FloorPlan204'"
   ]
  },
  {
   "cell_type": "code",
   "execution_count": 3,
   "metadata": {},
   "outputs": [
    {
     "name": "stdout",
     "output_type": "stream",
     "text": [
      "location & index & rotation built\n"
     ]
    }
   ],
   "source": [
    "controller = ai2thor.controller.BFSController(grid_size=0.5)\n",
    "controller.start(player_screen_width=400)\n",
    "controller.search_all_closed(scene)\n",
    "location = []\n",
    "index = {}\n",
    "i = 0\n",
    "num_of_location = 0\n",
    "for point in controller.grid_points:\n",
    "    for k in range(4):\n",
    "        location.append((point['x'], point['z']))\n",
    "    index[(point['x'], point['z'])] = i\n",
    "    i += 1\n",
    "    num_of_location += 1\n",
    "height = controller.grid_points[0]['y']\n",
    "\n",
    "rotation = [0, 90, 180, 270] * len(controller.grid_points)\n",
    "#  ------ location & index & rotation built ------\n",
    "print('location & index & rotation built')"
   ]
  },
  {
   "cell_type": "code",
   "execution_count": 4,
   "metadata": {},
   "outputs": [
    {
     "name": "stdout",
     "output_type": "stream",
     "text": [
      "graph built\n"
     ]
    }
   ],
   "source": [
    "def axis2list(string):\n",
    "    for i in range(len(string)):\n",
    "        if string[i] == '|':\n",
    "            end = i\n",
    "            break\n",
    "    x = float(string[:end]) \n",
    "    y = float(string[end + 1:])\n",
    "    return (x, y)\n",
    "\n",
    "graph = []\n",
    "for i in range(len(location) // 4):\n",
    "    j = i * 4\n",
    "    graph.append([-1,j+1,j+3,-1])\n",
    "    graph.append([-1,j+2,j,-1])\n",
    "    graph.append([-1,j+3,j+1,-1])\n",
    "    graph.append([-1,j,j+2,-1])\n",
    "\n",
    "G = controller.build_graph()\n",
    "for g in G.nodes:\n",
    "    x0, y0 = axis2list(g)\n",
    "    for n in list(G[g]):\n",
    "        x, y = axis2list(n)\n",
    "        if x > x0:\n",
    "            graph[index[x0,y0] * 4 + 1][0] = index[x,y] * 4 + 1\n",
    "            graph[index[x0,y0] * 4 + 3][3] = index[x,y] * 4 + 3\n",
    "        elif x < x0:\n",
    "            graph[index[x0,y0] * 4 + 3][0] = index[x,y] * 4 + 3\n",
    "            graph[index[x0,y0] * 4 + 1][3] = index[x,y] * 4 + 1            \n",
    "        elif y > y0:\n",
    "            graph[index[x0,y0] * 4 + 0][0] = index[x,y] * 4 + 0\n",
    "            graph[index[x0,y0] * 4 + 2][3] = index[x,y] * 4 + 2             \n",
    "        elif y < y0:\n",
    "            graph[index[x0,y0] * 4 + 2][0] = index[x,y] * 4 + 2\n",
    "            graph[index[x0,y0] * 4 + 0][3] = index[x,y] * 4 + 0\n",
    "            \n",
    "#  ------ graph built ------\n",
    "print('graph built')"
   ]
  },
  {
   "cell_type": "code",
   "execution_count": 5,
   "metadata": {},
   "outputs": [],
   "source": [
    "#### Graph: [Ahead, Right, Left, Back]\n",
    "#print(graph[22])\n",
    "#### Location: (x, y)\n",
    "#print(location[22])\n",
    "#### Rotation: [0, 90, 180, 270]\n",
    "#print(len(rotation))\n",
    "#### Edge in G\n",
    "#print(G['-1.000|-1.000'])\n",
    "#### index id with axis (need to multiply 4)\n",
    "#print(index[-0.5,-1.5])"
   ]
  },
  {
   "cell_type": "code",
   "execution_count": 6,
   "metadata": {},
   "outputs": [],
   "source": [
    "observation = []\n",
    "# ----- look ahead -----\n",
    "event = controller.step(dict(action='Teleport', x=location[0][0], y=height, z=location[0][1])) \n",
    "while event.metadata['agent']['rotation']['y'] != 0:\n",
    "        event = controller.step(dict(action='RotateLeft'))       \n",
    "\n",
    "for i in range(len(location) // 4):\n",
    "    event = controller.step(dict(action='Teleport', x=location[i*4][0], y=height, z=location[i*4][1]))  \n",
    "    observation.append(event.frame)\n",
    "    event = controller.step(dict(action='RotateRight'))\n",
    "    observation.append(event.frame)\n",
    "    event = controller.step(dict(action='RotateRight'))\n",
    "    observation.append(event.frame)\n",
    "    event = controller.step(dict(action='RotateRight'))\n",
    "    observation.append(event.frame)\n",
    "    event = controller.step(dict(action='RotateRight'))"
   ]
  },
  {
   "cell_type": "code",
   "execution_count": 7,
   "metadata": {},
   "outputs": [
    {
     "name": "stdout",
     "output_type": "stream",
     "text": [
      "num of location: 34\n",
      "num of id 136\n"
     ]
    }
   ],
   "source": [
    "#print(len(observation))\n",
    "#print(len(location))\n",
    "#print(len(rotation))\n",
    "#print(len(graph))\n",
    "print('num of location:', len(index))\n",
    "print('num of id', len(observation))"
   ]
  },
  {
   "cell_type": "code",
   "execution_count": 8,
   "metadata": {},
   "outputs": [
    {
     "name": "stdout",
     "output_type": "stream",
     "text": [
      "shortest_path_distance built\n"
     ]
    }
   ],
   "source": [
    "shortest_path_distance = []\n",
    "for i in range(len(location)):\n",
    "    shortest_path_distance.append([])\n",
    "\n",
    "def axis2string(axis):\n",
    "    x = axis[0]\n",
    "    y = axis[1]\n",
    "    string = \"%0.3f|%0.3f\" % (x, y)\n",
    "    return string\n",
    "\n",
    "for i in range(len(location)):\n",
    "    for j in range(len(location)):\n",
    "        if (i,j) not in shortest_path_distance:\n",
    "            turn = abs(i % 4 - j % 4)\n",
    "            if turn == 3:\n",
    "                turn = 1\n",
    "            shortest_path_distance[i].append(turn + len(nx.shortest_path(G, axis2string(location[i]), axis2string(location[j]))) - 1)\n",
    "#  ------ shortest_path_distance ------\n",
    "print('shortest_path_distance built')\n",
    "# Did not fully consider rotation, for access test"
   ]
  },
  {
   "cell_type": "code",
   "execution_count": 9,
   "metadata": {},
   "outputs": [
    {
     "name": "stdout",
     "output_type": "stream",
     "text": [
      "136\n"
     ]
    }
   ],
   "source": [
    "print(len(shortest_path_distance))"
   ]
  },
  {
   "cell_type": "code",
   "execution_count": 10,
   "metadata": {},
   "outputs": [
    {
     "name": "stdout",
     "output_type": "stream",
     "text": [
      "INFO:tensorflow:Restoring parameters from ./resnet_v1_50.ckpt\n"
     ]
    }
   ],
   "source": [
    "from tensorflow.contrib.slim.python.slim.nets import resnet_v1\n",
    "import tensorflow as tf\n",
    "import tensorflow.contrib.slim as slim\n",
    "\n",
    "resnet_feature = []\n",
    "inputs = tf.placeholder(tf.float32, shape=[1, 300, 400, 3])\n",
    "with slim.arg_scope(resnet_v1.resnet_arg_scope()):\n",
    "    net, end_points = resnet_v1.resnet_v1_50(inputs, is_training=False)\n",
    "saver = tf.train.Saver()    \n",
    "\n",
    "with tf.Session() as sess:\n",
    "    saver.restore(sess, './resnet_v1_50.ckpt')\n",
    "    # Resnet-50 layer names: https://github.com/KaimingHe/deep-residual-networks/blob/master/prototxt/ResNet-50-deploy.prototxt\n",
    "    representation_tensor = sess.graph.get_tensor_by_name('resnet_v1_50/pool5:0') \n",
    "    for obs in observation:\n",
    "        img = obs[np.newaxis,:]\n",
    "        features = sess.run(representation_tensor, {'Placeholder:0': img})\n",
    "        resnet_feature.append(features.flatten()[:,np.newaxis])"
   ]
  },
  {
   "cell_type": "code",
   "execution_count": 11,
   "metadata": {},
   "outputs": [
    {
     "name": "stdout",
     "output_type": "stream",
     "text": [
      "num of id: 136    dimension: (2048, 1)\n",
      "resnet_feature built from Resnet50\n"
     ]
    }
   ],
   "source": [
    "print('num of id:', len(resnet_feature),'   dimension:', resnet_feature[0].shape)\n",
    "print('resnet_feature built from Resnet50')"
   ]
  },
  {
   "cell_type": "code",
   "execution_count": 12,
   "metadata": {},
   "outputs": [],
   "source": [
    "import h5py\n",
    "import os\n",
    "if os.path.exists(scene+'.h5'):\n",
    "    os.remove(scene+'.h5')   \n",
    "# write h5\n",
    "f = h5py.File(scene+'.h5', 'w')\n",
    "f['observation'] = observation\n",
    "f['resnet_feature'] = resnet_feature\n",
    "f['location'] = location\n",
    "f['rotation'] = rotation\n",
    "f['graph'] = graph\n",
    "f.create_dataset('shortest_path_distance', data=shortest_path_distance)\n",
    "f.close()"
   ]
  },
  {
   "cell_type": "code",
   "execution_count": 14,
   "metadata": {},
   "outputs": [],
   "source": [
    "# test\n",
    "#h5 = h5py.File(scene+'.h5', 'r')\n",
    "#list(h5.keys())\n",
    "#print(h5['location'][0])\n",
    "#print(h5['rotation'][3])\n",
    "#imgplot = plt.imshow(h5['observation'][2])\n",
    "#type(h5['location'])\n",
    "#print(h5['shortest_path_distance'][0][1])"
   ]
  }
 ],
 "metadata": {
  "kernelspec": {
   "display_name": "Python 3",
   "language": "python",
   "name": "python3"
  },
  "language_info": {
   "codemirror_mode": {
    "name": "ipython",
    "version": 3
   },
   "file_extension": ".py",
   "mimetype": "text/x-python",
   "name": "python",
   "nbconvert_exporter": "python",
   "pygments_lexer": "ipython3",
   "version": "3.6.7"
  }
 },
 "nbformat": 4,
 "nbformat_minor": 2
}
